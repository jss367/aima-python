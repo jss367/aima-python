{
 "cells": [
  {
   "cell_type": "markdown",
   "metadata": {},
   "source": [
    "# Heuristic Search Approaches\n",
    "\n",
    "If we have outside knowledge about our world, can we apply that knowledge to improve our search algorithms? When we add our own intelligence that's really the guts of third wave AI.\n",
    "\n",
    "<p align=\"center\">\n",
    "<img src=\"images/3rd_wave_elsa.png\">\n",
    "</p>\n",
    "\n",
    "## Greedy Best-first Search\n",
    "So, for example, in the mapping problem in the text\n",
    "suppose we also know (from another source) the point-to-point distances between the cities, independent of roads.\n",
    "<p align=\"center\">\n",
    "<img src=\"images/Romania+with+step+costs+in+km.jpg\">\n",
    "</p>\n",
    "\n",
    "So if I'm in Arad, there are three cities I can choose to go through as I try to find the best route to Bucharest. What's the best choice? What next?\n",
    "\n",
    "It turns out that this greedy best-first algorithm will find a good path, but not quite the best path. But what did this algorithm ignore?"
   ]
  },
  {
   "cell_type": "markdown",
   "metadata": {},
   "source": [
    "# A* Search\n",
    "\n",
    "In the past algorithm, we informed the best-search algorithm with our external heuristic $f(n) = h(n)= $ the straight-line distance of city $n$ to Bucharest. But we completely ignored how far each city was from our starting city.\n",
    "\n",
    "Now let's inform the best-search with \n",
    "\\[\n",
    "    f(n) = g(n) + h(n) \n",
    "\\]\n",
    "where $g(n)$ accounts for the travel distance to from the starting city to the frontier city.\n",
    "\n",
    "## What does $h$ have to promise for A* to be cost optimal?\n",
    "\n",
    "The heuristic has to be **admissible**, meaning that it *never overestimates* the distance to the goal.\n",
    "\n",
    "A stronger condition is that a heuristic be **consistent**. Wikipedia gives a nicer explanation than the text:\n",
    "\n",
    "Formally, for every node N and each successor P of N, the estimated cost of reaching the goal from N is no greater than the step cost of getting to P plus the estimated cost of reaching the goal from P. That is:\n",
    "\n",
    "$$ h(N)\\leq c(N,P)+h(P)$$ \n",
    "\n",
    "$$h(G)=0$$\n",
    "where\n",
    "\n",
    "* $h$ is the consistent heuristic function\n",
    "* $N$ is any node in the graph\n",
    "* $P$ is any descendant of $N$\n",
    "* $G$ is any goal node\n",
    "* $c(N,P)$ is the cost of reaching node $P$ from $N$\n",
    "Informally, every node $i$ will give an estimate that, accounting for the cost to reach the next node, is always lesser than the estimate at node $i+1$. (This is the triangle inequality.)\n",
    "\n",
    "Another term for a consistent heuristic is a **monotonic heuristic**.\n"
   ]
  },
  {
   "cell_type": "markdown",
   "metadata": {},
   "source": []
  }
 ],
 "metadata": {
  "language_info": {
   "name": "python"
  },
  "orig_nbformat": 4
 },
 "nbformat": 4,
 "nbformat_minor": 2
}
